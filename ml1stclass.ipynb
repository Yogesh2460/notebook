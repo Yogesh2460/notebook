{
 "cells": [
  {
   "cell_type": "code",
   "execution_count": 1,
   "id": "ba5f6734",
   "metadata": {},
   "outputs": [
    {
     "name": "stdout",
     "output_type": "stream",
     "text": [
      "3 2\n"
     ]
    }
   ],
   "source": [
    "a=2\n",
    "b=3\n",
    "a,b=b,a\n",
    "print(a,b)\n"
   ]
  },
  {
   "cell_type": "code",
   "execution_count": 3,
   "id": "28798cf4",
   "metadata": {},
   "outputs": [
    {
     "name": "stdout",
     "output_type": "stream",
     "text": [
      "hajime mashitte\n"
     ]
    }
   ],
   "source": [
    "print(\"hajime mashitte\")\n"
   ]
  },
  {
   "cell_type": "markdown",
   "id": "711d088e",
   "metadata": {},
   "source": [
    "prateek desu"
   ]
  },
  {
   "cell_type": "code",
   "execution_count": 7,
   "id": "3d680f96",
   "metadata": {},
   "outputs": [],
   "source": [
    "import random \n",
    "import numpy as np"
   ]
  },
  {
   "cell_type": "code",
   "execution_count": 17,
   "id": "2ecddcae",
   "metadata": {},
   "outputs": [],
   "source": [
    "actual_vals=[1]*50+[0]*50\n",
    "predict_vals= random.choices([0,1],k=100)"
   ]
  },
  {
   "cell_type": "code",
   "execution_count": 18,
   "id": "fe2dd89c",
   "metadata": {},
   "outputs": [
    {
     "data": {
      "text/plain": [
       "[0, 1, 1, 1, 1, 1, 1, 1, 0, 1]"
      ]
     },
     "execution_count": 18,
     "metadata": {},
     "output_type": "execute_result"
    }
   ],
   "source": [
    "predict_vals[0:10]"
   ]
  },
  {
   "cell_type": "code",
   "execution_count": 20,
   "id": "ffaf7ea9",
   "metadata": {},
   "outputs": [
    {
     "data": {
      "text/plain": [
       "array([[25, 25],\n",
       "       [19, 31]])"
      ]
     },
     "execution_count": 20,
     "metadata": {},
     "output_type": "execute_result"
    }
   ],
   "source": [
    "fp=0\n",
    "fn=0\n",
    "\n",
    "tp=0\n",
    "tn=0\n",
    "\n",
    "for actual_val,predict_val in zip(actual_vals,predict_vals):\n",
    "    if predict_val==actual_val:\n",
    "        if predict_val==1:\n",
    "            tp+=1\n",
    "        else:\n",
    "            tn+=1\n",
    "    else:\n",
    "        if predict_val==1:\n",
    "            fp+=1\n",
    "        else:\n",
    "            fn+=1\n",
    "confusion_matrix = [\n",
    "    [tn,fp],\n",
    "    [fn,tp]\n",
    "\n",
    "]\n",
    "one_confusion_matrix=np.array(confusion_matrix)\n",
    "one_confusion_matrix\n"
   ]
  },
  {
   "cell_type": "code",
   "execution_count": null,
   "id": "a105081b",
   "metadata": {},
   "outputs": [],
   "source": [
    "import pandas as pd\n",
    "import seaborn  as sb"
   ]
  },
  {
   "cell_type": "code",
   "execution_count": null,
   "id": "4c830f61",
   "metadata": {},
   "outputs": [],
   "source": [
    "%matplotlib inline\n",
    "imoport matplotlib.pyplot as plit\n",
    "plt.style.use('fivethirtyeight')\n",
    "\n",
    "y_predict=predict_val\n",
    "y_actual=actual_val\n",
    "\n",
    "data={\n",
    "    'y_predicted':y_predict,\n",
    "    'y_actual':y_actual\n",
    "    \n",
    "}\n",
    "df=pd.DataFrame"
   ]
  },
  {
   "cell_type": "markdown",
   "id": "ddd7d7e7",
   "metadata": {},
   "source": []
  }
 ],
 "metadata": {
  "kernelspec": {
   "display_name": "Python 3 (ipykernel)",
   "language": "python",
   "name": "python3"
  },
  "language_info": {
   "codemirror_mode": {
    "name": "ipython",
    "version": 3
   },
   "file_extension": ".py",
   "mimetype": "text/x-python",
   "name": "python",
   "nbconvert_exporter": "python",
   "pygments_lexer": "ipython3",
   "version": "3.9.12"
  }
 },
 "nbformat": 4,
 "nbformat_minor": 5
}
